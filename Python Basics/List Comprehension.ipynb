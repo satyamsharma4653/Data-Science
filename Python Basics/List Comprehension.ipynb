{
 "cells": [
  {
   "cell_type": "code",
   "execution_count": 1,
   "metadata": {},
   "outputs": [],
   "source": [
    "lst1 = []\n",
    "def lst_square(lst):\n",
    "    for i in lst:\n",
    "        lst1.append(i*i)\n",
    "    return lst1"
   ]
  },
  {
   "cell_type": "code",
   "execution_count": 2,
   "metadata": {},
   "outputs": [
    {
     "data": {
      "text/plain": [
       "[1, 4, 9, 16]"
      ]
     },
     "execution_count": 2,
     "metadata": {},
     "output_type": "execute_result"
    }
   ],
   "source": [
    "lst_square([1,2,3,4])"
   ]
  },
  {
   "cell_type": "markdown",
   "metadata": {},
   "source": [
    "In the above methodology, we are creating a function and a loop which is having more time complexity. So we will do the same with list comprehension."
   ]
  },
  {
   "cell_type": "code",
   "execution_count": 4,
   "metadata": {},
   "outputs": [],
   "source": [
    "lst = [1,2,3]"
   ]
  },
  {
   "cell_type": "code",
   "execution_count": 5,
   "metadata": {},
   "outputs": [
    {
     "data": {
      "text/plain": [
       "[1, 4, 9]"
      ]
     },
     "execution_count": 5,
     "metadata": {},
     "output_type": "execute_result"
    }
   ],
   "source": [
    "[i*i for i in lst]"
   ]
  },
  {
   "cell_type": "code",
   "execution_count": 7,
   "metadata": {},
   "outputs": [],
   "source": [
    "import numpy as np\n",
    "import pandas as pd"
   ]
  },
  {
   "cell_type": "code",
   "execution_count": 16,
   "metadata": {},
   "outputs": [
    {
     "data": {
      "text/plain": [
       "array([331, 358, 352, 138, 288, 199, 202, 284, 184, 287, 269, 168,  25,\n",
       "        42, 356, 390, 151, 396,  47, 202,  95,  57, 317, 293, 243, 162,\n",
       "        67, 263, 164, 155,  53, 284, 322,  66,  47, 117, 246, 332, 229,\n",
       "       246, 382, 183,  10, 159, 387, 258,  19,  51, 347, 148, 227, 368,\n",
       "       255, 289,  28, 100,  41, 139,  32,  55,  36, 109, 283, 294, 376,\n",
       "       334, 222,  72, 304, 290,  13, 311, 378, 122, 127, 114,  62, 327,\n",
       "       210, 295, 163, 115, 196,  75,  43, 394, 197, 257, 269, 216, 220,\n",
       "       124, 311, 234,  58, 366, 182, 206, 312, 107])"
      ]
     },
     "execution_count": 16,
     "metadata": {},
     "output_type": "execute_result"
    }
   ],
   "source": [
    "a = np.random.randint(10,400,100)\n",
    "a"
   ]
  },
  {
   "cell_type": "code",
   "execution_count": 19,
   "metadata": {},
   "outputs": [
    {
     "data": {
      "text/plain": [
       "array([ 10,  13,  19,  25,  28,  32,  36,  41,  42,  43,  47,  47,  51,\n",
       "        53,  55,  57,  58,  62,  66,  67,  72,  75,  95, 100, 107, 109,\n",
       "       114, 115, 117, 122, 124, 127, 138, 139, 148, 151, 155, 159, 162,\n",
       "       163, 164, 168, 182, 183, 184, 196, 197, 199, 202, 202, 206, 210,\n",
       "       216, 220, 222, 227, 229, 234, 243, 246, 246, 255, 257, 258, 263,\n",
       "       269, 269, 283, 284, 284, 287, 288, 289, 290, 293, 294, 295, 304,\n",
       "       311, 311, 312, 317, 322, 327, 331, 332, 334, 347, 352, 356, 358,\n",
       "       366, 368, 376, 378, 382, 387, 390, 394, 396])"
      ]
     },
     "execution_count": 19,
     "metadata": {},
     "output_type": "execute_result"
    }
   ],
   "source": [
    "a.sort()\n",
    "a"
   ]
  },
  {
   "cell_type": "code",
   "execution_count": 23,
   "metadata": {},
   "outputs": [
    {
     "data": {
      "text/plain": [
       "53"
      ]
     },
     "execution_count": 23,
     "metadata": {},
     "output_type": "execute_result"
    }
   ],
   "source": [
    "a_evens = [i for i in a if i%2 == 0 ]\n",
    "len(a_evens)"
   ]
  },
  {
   "cell_type": "code",
   "execution_count": null,
   "metadata": {},
   "outputs": [],
   "source": []
  }
 ],
 "metadata": {
  "kernelspec": {
   "display_name": "Python 3",
   "language": "python",
   "name": "python3"
  },
  "language_info": {
   "codemirror_mode": {
    "name": "ipython",
    "version": 3
   },
   "file_extension": ".py",
   "mimetype": "text/x-python",
   "name": "python",
   "nbconvert_exporter": "python",
   "pygments_lexer": "ipython3",
   "version": "3.7.6"
  }
 },
 "nbformat": 4,
 "nbformat_minor": 4
}
